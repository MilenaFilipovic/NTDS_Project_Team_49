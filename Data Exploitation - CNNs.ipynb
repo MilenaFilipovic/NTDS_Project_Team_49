{
 "cells": [
  {
   "cell_type": "markdown",
   "metadata": {},
   "source": [
    "# Data Exploitation: Convolutional Neural Networks on Graphs with Fast Localized Spectral Filtering"
   ]
  },
  {
   "cell_type": "markdown",
   "metadata": {},
   "source": [
    "This notebook is devoted to experimenting with the implementation of Convolutional Neural Networks (CNNs) translated onto the problem of a word embedding graph. The libraries, methods, and techniques presented here utilize the work introduced in the paper: Michaël Defferrard, Xavier Bresson, Pierre Vandergheynst, [Convolutional Neural Networks on Graphs with Fast Localized Spectral Filtering](https://arxiv.org/abs/1606.09375), Neural Information Processing Systems (NIPS), 2016."
   ]
  },
  {
   "cell_type": "code",
   "execution_count": null,
   "metadata": {},
   "outputs": [],
   "source": [
    "%load_ext autoreload\n",
    "%autoreload 2\n",
    "import pandas as pd\n",
    "from collections import Counter\n",
    "from scipy import sparse\n",
    "import numpy as np\n",
    "import matplotlib.pyplot as plt\n",
    "from sklearn import preprocessing, feature_extraction, model_selection\n",
    "import scipy\n",
    "from scipy import spatial, sparse\n",
    "import scipy.sparse.linalg\n",
    "\n",
    "from lib import models, graph, coarsening, utils\n",
    "%matplotlib inline"
   ]
  },
  {
   "cell_type": "markdown",
   "metadata": {},
   "source": [
    "# Data extraction"
   ]
  },
  {
   "cell_type": "markdown",
   "metadata": {},
   "source": [
    "In order to extract the elements necessary for forming the CNNs, we re-use data obtained during the implementation of previous steps, such as data created in the data exploration phase.\n",
    "\n",
    "To build the graph that will be used in this notebook, we must first create a dataset containing the movies, their genres and the keywords used to describe each of these movies."
   ]
  },
  {
   "cell_type": "code",
   "execution_count": null,
   "metadata": {},
   "outputs": [],
   "source": [
    "first_genres = pd.read_csv('../project/data/first_genres_largest.csv')\n",
    "first_genres.drop(columns = 'Unnamed: 0', inplace = True)\n",
    "features_df = pd.read_csv('../project/data/refined_features.csv')\n",
    "features_df.drop(columns = ['Unnamed: 0'], inplace = True)\n",
    "features_df = features_df[['movie_id', 'keywords']]\n",
    "movies_df = first_genres.join(features_df)\n",
    "movies_df['first_genre'] = movies_df.first_genre.astype('category')\n",
    "movies_df['first_genre_codes'] = movies_df['first_genre'].cat.codes\n",
    "movies_df.head()"
   ]
  },
  {
   "cell_type": "markdown",
   "metadata": {},
   "source": [
    "\n",
    "Next, we divide this data into a *training* and a *testing* set, taking care to make sure that our subsampling is stratified. It is important that all categories (in our case movie genres) are equally represented in the sampled data, as this ensures that future results are not biased. "
   ]
  },
  {
   "cell_type": "code",
   "execution_count": null,
   "metadata": {},
   "outputs": [],
   "source": [
    "train_data, test_data = model_selection.train_test_split(movies_df, test_size = 0.4, stratify=movies_df['first_genre'])\n",
    "print('Training size: {}, Testing size: {}'.format(len(train_data), len(test_data)))\n",
    "train_data.head(5)"
   ]
  },
  {
   "cell_type": "markdown",
   "metadata": {},
   "source": [
    "## Training data\n",
    "\n",
    "In order to implement the CNN, the *training* data must be preprocessed. In this section of the notebook we store our *training* data in a *Keywords* structure (the *Keywords* class extends the *TextDataset* class, implemented in the *utils* module).\n",
    "\n",
    "The *training* data is then pre-processed and prepared for use in the CNN; all characters are transformed to lower case letters and whitespaces, stopwords commonly found in the English language are removed and the movie-keywords are transformed to bags-of-words.\n",
    "\n",
    "Later, short 'documents' with less than 5 words are removed, and from the remaining words, the ones which have embedding are retained. Since there is not a large number of words at this point, we chose to keep all of them, and not filter any further.\n",
    "\n",
    "Finally, the *training* data is normalized, using the $l_1$ norm."
   ]
  },
  {
   "cell_type": "code",
   "execution_count": null,
   "metadata": {},
   "outputs": [],
   "source": [
    "train_keywords = utils.Keywords(dataset = train_data, categories = list(movies_df['first_genre'].cat.categories))\n",
    "train_keywords.clean_text(num='substitute')\n",
    "train_keywords.vectorize(stop_words='english')\n",
    "train_keywords.data_info()"
   ]
  },
  {
   "cell_type": "code",
   "execution_count": null,
   "metadata": {},
   "outputs": [],
   "source": [
    "train_keywords.show_document(1);"
   ]
  },
  {
   "cell_type": "code",
   "execution_count": null,
   "metadata": {},
   "outputs": [],
   "source": [
    "train_keywords.data_info(True)\n",
    "wc = train_keywords.remove_short_documents(nwords=5, vocab='full')\n",
    "print('shortest: {}, longest: {} words'.format(wc.min(), wc.max()))\n",
    "train_keywords.data_info()\n",
    "plt.figure(figsize=(17,5))\n",
    "plt.semilogy(wc, '.');"
   ]
  },
  {
   "cell_type": "code",
   "execution_count": null,
   "metadata": {},
   "outputs": [],
   "source": [
    "train_keywords.embed()\n",
    "train_keywords.data_info()"
   ]
  },
  {
   "cell_type": "code",
   "execution_count": null,
   "metadata": {},
   "outputs": [],
   "source": [
    "freq = train_keywords.keep_top_words(1000, 20)\n",
    "train_keywords.data_info()\n",
    "plt.figure(figsize=(17,5))\n",
    "plt.semilogy(freq);"
   ]
  },
  {
   "cell_type": "code",
   "execution_count": 9,
   "metadata": {},
   "outputs": [
    {
     "name": "stdout",
     "output_type": "stream",
     "text": [
      "N = 912 documents, M = 793 words, sparsity=1.3213%\n",
      "    184 documents in class  0 (Action)\n",
      "    101 documents in class  1 (Adventure)\n",
      "     31 documents in class  2 (Animation)\n",
      "    154 documents in class  3 (Comedy)\n",
      "     49 documents in class  4 (Crime)\n",
      "      4 documents in class  5 (Documentary)\n",
      "    172 documents in class  6 (Drama)\n",
      "     12 documents in class  7 (Family)\n",
      "     36 documents in class  8 (Fantasy)\n",
      "      5 documents in class  9 (History)\n",
      "     49 documents in class 10 (Horror)\n",
      "      2 documents in class 11 (Music)\n",
      "     11 documents in class 12 (Mystery)\n",
      "     22 documents in class 13 (Romance)\n",
      "     30 documents in class 14 (Science Fiction)\n",
      "     41 documents in class 15 (Thriller)\n",
      "      5 documents in class 16 (War)\n",
      "      4 documents in class 17 (Western)\n"
     ]
    }
   ],
   "source": [
    "# Remove documents whose signal would be the zero vector.\n",
    "wc = train_keywords.remove_short_documents(nwords=5, vocab='selected')\n",
    "train_keywords.data_info(True)"
   ]
  },
  {
   "cell_type": "code",
   "execution_count": 10,
   "metadata": {
    "collapsed": true
   },
   "outputs": [],
   "source": [
    "train_keywords.normalize(norm='l1')"
   ]
  },
  {
   "cell_type": "markdown",
   "metadata": {},
   "source": [
    "## Testing data\n",
    "\n",
    "We pre-process the *testing* data in a similar way as we did the *training* data. First, it's stored in a *Keywords* structure, after which all characters are transformed to lower case letters and whitespaces.  Only words which occur in the *training* data vocabulary are retained. The *testing* data is also normalized using the $l_1$ norm."
   ]
  },
  {
   "cell_type": "code",
   "execution_count": 11,
   "metadata": {},
   "outputs": [
    {
     "name": "stdout",
     "output_type": "stream",
     "text": [
      "N = 777 documents, C = 18 classes\n",
      "N = 777 documents, M = 793 words, sparsity=1.0216%\n",
      "shortest: 0, longest: 98 words\n",
      "N = 593 documents, M = 793 words, sparsity=1.2357%\n",
      "    122 documents in class  0 (Action)\n",
      "     64 documents in class  1 (Adventure)\n",
      "     21 documents in class  2 (Animation)\n",
      "    107 documents in class  3 (Comedy)\n",
      "     22 documents in class  4 (Crime)\n",
      "      1 documents in class  5 (Documentary)\n",
      "    110 documents in class  6 (Drama)\n",
      "      6 documents in class  7 (Family)\n",
      "     22 documents in class  8 (Fantasy)\n",
      "      3 documents in class  9 (History)\n",
      "     38 documents in class 10 (Horror)\n",
      "      1 documents in class 11 (Music)\n",
      "      8 documents in class 12 (Mystery)\n",
      "     12 documents in class 13 (Romance)\n",
      "     21 documents in class 14 (Science Fiction)\n",
      "     30 documents in class 15 (Thriller)\n",
      "      4 documents in class 16 (War)\n",
      "      1 documents in class 17 (Western)\n"
     ]
    }
   ],
   "source": [
    "test_keywords = utils.Keywords(dataset = test_data, categories = list(movies_df['first_genre'].cat.categories))\n",
    "test_keywords.clean_text(num='substitute')\n",
    "test_keywords.vectorize(vocabulary=train_keywords.vocab)\n",
    "test_keywords.data_info()\n",
    "wc = test_keywords.remove_short_documents(nwords=5, vocab='selected')\n",
    "print('shortest: {}, longest: {} words'.format(wc.min(), wc.max()))\n",
    "test_keywords.data_info(True)\n",
    "test_keywords.normalize(norm='l1')"
   ]
  },
  {
   "cell_type": "markdown",
   "metadata": {},
   "source": [
    "# Feature graph creation\n",
    "\n",
    "The following step is the creation of the feature graph. We convert the *training* and *testing* datasets into the required data type, and then proceed to create the *graph_data* based on the embeddings of all of the words in our *training* dataset (these same words are used also in the *testing* dataset). We then calculate the cosine distance between each pair of words and keep only those that are most strongly connected as neighbors in the graph. Using this, we create an adjacency matrix that is then used to generate a Laplacian matrix. This Laplacian matrix will be used directly in the CNN."
   ]
  },
  {
   "cell_type": "code",
   "execution_count": 12,
   "metadata": {
    "collapsed": true
   },
   "outputs": [],
   "source": [
    "min_number_edges = 16\n",
    "similarity_measure = 'cosine'\n",
    "coarsening_levels = 0"
   ]
  },
  {
   "cell_type": "code",
   "execution_count": 13,
   "metadata": {},
   "outputs": [
    {
     "name": "stdout",
     "output_type": "stream",
     "text": [
      "12506 > 6344 edges\n",
      "Layer 0: M_0 = |V| = 793 nodes (0 added),|E| = 12506 edges\n"
     ]
    }
   ],
   "source": [
    "train_data = train_keywords.data.astype(np.float32)\n",
    "test_data = test_keywords.data.astype(np.float32)\n",
    "train_labels = train_keywords.labels\n",
    "test_labels = test_keywords.labels\n",
    "\n",
    "graph_data = train_keywords.embeddings.astype(np.float32)\n",
    "\n",
    "dist, idx = graph.distance_sklearn_metrics(graph_data, k=min_number_edges, metric=similarity_measure)\n",
    "A = graph.adjacency(dist, idx)\n",
    "print(\"{} > {} edges\".format(A.nnz//2, min_number_edges*graph_data.shape[0]//2))\n",
    "A = graph.replace_random_edges(A, 0)\n",
    "graphs, perm = coarsening.coarsen(A, levels=coarsening_levels, self_connections=False)\n",
    "L = [graph.laplacian(A, normalized=True) for A in graphs]\n",
    "\n",
    "\n",
    "train_data = scipy.sparse.csr_matrix(coarsening.perm_data(train_data.toarray(), perm))\n",
    "test_data = scipy.sparse.csr_matrix(coarsening.perm_data(test_data.toarray(), perm))"
   ]
  },
  {
   "cell_type": "code",
   "execution_count": 14,
   "metadata": {},
   "outputs": [
    {
     "data": {
      "image/png": "[encoded data removed]",
      "text/plain": [
       "<matplotlib.figure.Figure at 0x1e7c6241ac8>"
      ]
     },
     "metadata": {},
     "output_type": "display_data"
    }
   ],
   "source": [
    "plt.spy(A, markersize=2, color='black');"
   ]
  },
  {
   "cell_type": "code",
   "execution_count": 15,
   "metadata": {
    "collapsed": true
   },
   "outputs": [],
   "source": [
    "val_data = test_data\n",
    "val_labels = test_labels"
   ]
  },
  {
   "cell_type": "markdown",
   "metadata": {},
   "source": [
    "# Classification\n",
    "\n",
    "This section is devoted to the training and testing of different models in order to compare the results achieved with them.\n",
    "\n",
    "We created a set of common parameters, which will be used for most of the models, such as e.g. non-linear ReLU function.\n",
    "Furthermore, we trained 7 different neural network models for our input and output.\n",
    "\n",
    "**The initial model configurations were taken from the previously referenced paper [Convolutional Neural Networks on Graphs with Fast Localized Spectral Filtering](https://arxiv.org/abs/1606.09375) however, they are optimized for our specific dataset** \n",
    "\n",
    "Model 1: \n",
    "    Network is composed of input, zero hidden layers and one output layer with a softmax function.\n",
    "\n",
    "Model 2:\n",
    "    Network is composed of input, one hidden layer and one output layer with a softmax function.\n",
    "\n",
    "Model 3:\n",
    "    Network is composed of input, two hidden layers and one output layer with a softmax function.\n",
    "\n",
    "Model 4:\n",
    "    Network is composed of input, one convolutional layer with Fourier filter and one output layer with softmax function.\n",
    "\n",
    "Model 5:\n",
    "    Network is composed of input, one convolutional layer with spline filter and one output layer with a softmax function.\n",
    "\n",
    "Model 6:\n",
    "    Network is composed of input, one convolutional layer with Chebyshev polynomial filter and one output layer with a softmax function.\n",
    "\n",
    "Model 7:\n",
    "    Network is composed of input, one convolutional layer with Chebyshev polynomial filter, one hidden layer and one output layer with a softmax function."
   ]
  },
  {
   "cell_type": "code",
   "execution_count": 16,
   "metadata": {
    "collapsed": true
   },
   "outputs": [],
   "source": [
    "common = {}\n",
    "common['num_epochs']     = 80\n",
    "common['batch_size']     = 100\n",
    "common['decay_steps']    = len(train_labels) / common['batch_size']\n",
    "common['eval_frequency'] = 5 * common['num_epochs']\n",
    "common['filter']         = 'chebyshev5'\n",
    "common['brelu']          = 'b1relu'\n",
    "common['pool']           = 'mpool1'\n",
    "C = max(train_labels) + 1  # number of classes\n",
    "\n",
    "model_perf = utils.model_perf()"
   ]
  },
  {
   "cell_type": "code",
   "execution_count": 17,
   "metadata": {},
   "outputs": [
    {
     "name": "stdout",
     "output_type": "stream",
     "text": [
      "NN architecture\n",
      "  input: M_0 = 793\n",
      "  layer 1: logits (softmax)\n",
      "    representation: M_1 = 18\n",
      "    weights: M_0 * M_1 = 793 * 18 = 14274\n",
      "    biases: M_1 = 18\n",
      "step 400 / 729 (epoch 43.86 / 80):\n",
      "  learning_rate = 1.10e+02, loss_average = 1.01e+00\n",
      "  validation accuracy: 39.97 (237 / 593), f1 (weighted): 38.37, loss: 4.25e+01\n",
      "  time: 2s (wall 2s)\n"
     ]
    },
    {
     "name": "stderr",
     "output_type": "stream",
     "text": [
      "D:\\Anaconda3\\lib\\site-packages\\sklearn\\metrics\\classification.py:1135: UndefinedMetricWarning: F-score is ill-defined and being set to 0.0 in labels with no predicted samples.\n",
      "  'precision', 'predicted', average, warn_for)\n"
     ]
    },
    {
     "name": "stdout",
     "output_type": "stream",
     "text": [
      "step 729 / 729 (epoch 79.93 / 80):\n",
      "  learning_rate = 1.74e+01, loss_average = 1.84e-01\n",
      "  validation accuracy: 39.12 (232 / 593), f1 (weighted): 37.95, loss: 4.25e+01\n",
      "  time: 3s (wall 2s)\n",
      "validation accuracy: peak = 39.97, mean = 39.54\n",
      "INFO:tensorflow:Restoring parameters from C:\\Users\\Milena Filipovic\\ntds_project\\project\\lib\\..\\checkpoints\\model-729\n",
      "train accuracy: 98.36 (897 / 912), f1 (weighted): 98.35, loss: 2.77e+00\n",
      "time: 0s (wall 0s)\n",
      "INFO:tensorflow:Restoring parameters from C:\\Users\\Milena Filipovic\\ntds_project\\project\\lib\\..\\checkpoints\\model-729\n",
      "test  accuracy: 39.12 (232 / 593), f1 (weighted): 37.95, loss: 4.25e+01\n",
      "time: 0s (wall 0s)\n"
     ]
    }
   ],
   "source": [
    "name = 'softmax'\n",
    "params = common.copy()\n",
    "params['regularization'] = 0\n",
    "params['dropout']        = 1\n",
    "params['learning_rate']  = 1e3\n",
    "params['decay_rate']     = 0.95\n",
    "params['momentum']       = 0.9\n",
    "params['F']              = []\n",
    "params['K']              = []\n",
    "params['p']              = []\n",
    "params['M']              = [C]\n",
    "model_perf.test(models.cgcnn(L, **params), name, params,\n",
    "                train_data, train_labels, val_data, val_labels, test_data, test_labels)"
   ]
  },
  {
   "cell_type": "code",
   "execution_count": 18,
   "metadata": {},
   "outputs": [
    {
     "name": "stdout",
     "output_type": "stream",
     "text": [
      "NN architecture\n",
      "  input: M_0 = 793\n",
      "  layer 1: fc1\n",
      "    representation: M_1 = 4500\n",
      "    weights: M_0 * M_1 = 793 * 4500 = 3568500\n",
      "    biases: M_1 = 4500\n",
      "  layer 2: logits (softmax)\n",
      "    representation: M_2 = 18\n",
      "    weights: M_1 * M_2 = 4500 * 18 = 81000\n",
      "    biases: M_2 = 18\n",
      "step 400 / 729 (epoch 43.86 / 80):\n",
      "  learning_rate = 1.10e-02, loss_average = 1.20e+00\n",
      "  validation accuracy: 43.00 (255 / 593), f1 (weighted): 37.29, loss: 1.85e+00\n",
      "  time: 152s (wall 24s)\n"
     ]
    },
    {
     "name": "stderr",
     "output_type": "stream",
     "text": [
      "D:\\Anaconda3\\lib\\site-packages\\sklearn\\metrics\\classification.py:1135: UndefinedMetricWarning: F-score is ill-defined and being set to 0.0 in labels with no predicted samples.\n",
      "  'precision', 'predicted', average, warn_for)\n"
     ]
    },
    {
     "name": "stdout",
     "output_type": "stream",
     "text": [
      "step 729 / 729 (epoch 79.93 / 80):\n",
      "  learning_rate = 1.74e-03, loss_average = 1.13e+00\n",
      "  validation accuracy: 44.69 (265 / 593), f1 (weighted): 39.10, loss: 1.85e+00\n",
      "  time: 275s (wall 43s)\n",
      "validation accuracy: peak = 44.69, mean = 43.84\n",
      "INFO:tensorflow:Restoring parameters from C:\\Users\\Milena Filipovic\\ntds_project\\project\\lib\\..\\checkpoints\\model-729\n",
      "train accuracy: 69.96 (638 / 912), f1 (weighted): 67.14, loss: 1.28e+00\n",
      "time: 1s (wall 0s)\n",
      "INFO:tensorflow:Restoring parameters from C:\\Users\\Milena Filipovic\\ntds_project\\project\\lib\\..\\checkpoints\\model-729\n",
      "test  accuracy: 44.69 (265 / 593), f1 (weighted): 39.10, loss: 1.85e+00\n",
      "time: 1s (wall 0s)\n"
     ]
    }
   ],
   "source": [
    "name = 'fc_softmax'\n",
    "params = common.copy()\n",
    "params['regularization'] = 0\n",
    "params['dropout']        = 1\n",
    "params['learning_rate']  = 0.1\n",
    "params['decay_rate']     = 0.95\n",
    "params['momentum']       = 0.9\n",
    "params['F']              = []\n",
    "params['K']              = []\n",
    "params['p']              = []\n",
    "params['M']              = [4500, C]\n",
    "model_perf.test(models.cgcnn(L, **params), name, params,\n",
    "                train_data, train_labels, val_data, val_labels, test_data, test_labels)"
   ]
  },
  {
   "cell_type": "code",
   "execution_count": 23,
   "metadata": {},
   "outputs": [
    {
     "name": "stdout",
     "output_type": "stream",
     "text": [
      "NN architecture\n",
      "  input: M_0 = 793\n",
      "  layer 1: fc1\n",
      "    representation: M_1 = 3500\n",
      "    weights: M_0 * M_1 = 793 * 3500 = 2775500\n",
      "    biases: M_1 = 3500\n",
      "  layer 2: fc2\n",
      "    representation: M_2 = 500\n",
      "    weights: M_1 * M_2 = 3500 * 500 = 1750000\n",
      "    biases: M_2 = 500\n",
      "  layer 3: logits (softmax)\n",
      "    representation: M_3 = 18\n",
      "    weights: M_2 * M_3 = 500 * 18 = 9000\n",
      "    biases: M_3 = 18\n",
      "step 400 / 729 (epoch 43.86 / 80):\n",
      "  learning_rate = 1.10e-02, loss_average = 6.60e-01\n",
      "  validation accuracy: 43.34 (257 / 593), f1 (weighted): 39.31, loss: 2.01e+00\n",
      "  time: 178s (wall 27s)\n"
     ]
    },
    {
     "name": "stderr",
     "output_type": "stream",
     "text": [
      "D:\\Anaconda3\\lib\\site-packages\\sklearn\\metrics\\classification.py:1135: UndefinedMetricWarning: F-score is ill-defined and being set to 0.0 in labels with no predicted samples.\n",
      "  'precision', 'predicted', average, warn_for)\n"
     ]
    },
    {
     "name": "stdout",
     "output_type": "stream",
     "text": [
      "step 729 / 729 (epoch 79.93 / 80):\n",
      "  learning_rate = 1.74e-03, loss_average = 4.74e-01\n",
      "  validation accuracy: 43.68 (259 / 593), f1 (weighted): 40.23, loss: 2.06e+00\n",
      "  time: 326s (wall 50s)\n",
      "validation accuracy: peak = 43.68, mean = 43.51\n",
      "INFO:tensorflow:Restoring parameters from C:\\Users\\Milena Filipovic\\ntds_project\\project\\lib\\..\\checkpoints\\model-729\n",
      "train accuracy: 91.45 (834 / 912), f1 (weighted): 90.83, loss: 6.49e-01\n",
      "time: 2s (wall 0s)\n",
      "INFO:tensorflow:Restoring parameters from C:\\Users\\Milena Filipovic\\ntds_project\\project\\lib\\..\\checkpoints\\model-729\n",
      "test  accuracy: 43.68 (259 / 593), f1 (weighted): 40.23, loss: 2.06e+00\n",
      "time: 1s (wall 0s)\n"
     ]
    }
   ],
   "source": [
    "name = 'fc_fc_softmax'\n",
    "params = common.copy()\n",
    "params['regularization'] = 0\n",
    "params['dropout']        = 1\n",
    "params['learning_rate']  = 0.1\n",
    "params['decay_rate']     = 0.95\n",
    "params['momentum']       = 0.9\n",
    "params['F']              = []\n",
    "params['K']              = []\n",
    "params['p']              = []\n",
    "params['M']              = [3500, 500, C]\n",
    "model_perf.test(models.cgcnn(L, **params), name, params,\n",
    "                train_data, train_labels, val_data, val_labels, test_data, test_labels)"
   ]
  },
  {
   "cell_type": "code",
   "execution_count": 25,
   "metadata": {},
   "outputs": [
    {
     "name": "stdout",
     "output_type": "stream",
     "text": [
      "NN architecture\n",
      "  input: M_0 = 793\n",
      "  layer 1: cgconv1\n",
      "    representation: M_0 * F_1 / p_1 = 793 * 32 / 1 = 25376\n",
      "    weights: F_0 * F_1 * K_1 = 1 * 32 * 793 = 25376\n",
      "    biases: F_1 = 32\n",
      "  layer 2: logits (softmax)\n",
      "    representation: M_2 = 18\n",
      "    weights: M_1 * M_2 = 25376 * 18 = 456768\n",
      "    biases: M_2 = 18\n",
      "step 400 / 729 (epoch 43.86 / 80):\n",
      "  learning_rate = 1.00e-03, loss_average = 2.32e+00\n"
     ]
    },
    {
     "name": "stderr",
     "output_type": "stream",
     "text": [
      "D:\\Anaconda3\\lib\\site-packages\\sklearn\\metrics\\classification.py:1135: UndefinedMetricWarning: F-score is ill-defined and being set to 0.0 in labels with no predicted samples.\n",
      "  'precision', 'predicted', average, warn_for)\n"
     ]
    },
    {
     "name": "stdout",
     "output_type": "stream",
     "text": [
      "  validation accuracy: 20.57 (122 / 593), f1 (weighted): 7.02, loss: 2.30e+00\n",
      "  time: 653s (wall 95s)\n",
      "step 729 / 729 (epoch 79.93 / 80):\n",
      "  learning_rate = 1.00e-03, loss_average = 2.30e+00\n",
      "  validation accuracy: 20.40 (121 / 593), f1 (weighted): 6.97, loss: 2.30e+00\n",
      "  time: 1196s (wall 169s)\n",
      "validation accuracy: peak = 20.57, mean = 20.49\n",
      "INFO:tensorflow:Restoring parameters from C:\\Users\\Milena Filipovic\\ntds_project\\project\\lib\\..\\checkpoints\\model-729\n",
      "train accuracy: 20.18 (184 / 912), f1 (weighted): 6.99, loss: 2.46e+00\n",
      "time: 7s (wall 1s)\n",
      "INFO:tensorflow:Restoring parameters from C:\\Users\\Milena Filipovic\\ntds_project\\project\\lib\\..\\checkpoints\\model-729\n",
      "test  accuracy: 20.40 (121 / 593), f1 (weighted): 6.97, loss: 2.30e+00\n",
      "time: 4s (wall 1s)\n"
     ]
    }
   ],
   "source": [
    "name = 'fgconv_softmax'\n",
    "params = common.copy()\n",
    "params['filter']         = 'fourier'\n",
    "params['regularization'] = 0\n",
    "params['dropout']        = 1\n",
    "params['learning_rate']  = 0.001\n",
    "params['decay_rate']     = 1\n",
    "params['momentum']       = 0\n",
    "params['F']              = [32] \n",
    "params['K']              = [L[0].shape[0]]\n",
    "params['p']              = [1]\n",
    "params['M']              = [C]\n",
    "model_perf.test(models.cgcnn(L, **params), name, params,\n",
    "                train_data, train_labels, val_data, val_labels, test_data, test_labels)"
   ]
  },
  {
   "cell_type": "code",
   "execution_count": 26,
   "metadata": {},
   "outputs": [
    {
     "name": "stdout",
     "output_type": "stream",
     "text": [
      "NN architecture\n",
      "  input: M_0 = 793\n",
      "  layer 1: cgconv1\n",
      "    representation: M_0 * F_1 / p_1 = 793 * 32 / 1 = 25376\n",
      "    weights: F_0 * F_1 * K_1 = 1 * 32 * 5 = 160\n",
      "    biases: F_1 = 32\n",
      "  layer 2: logits (softmax)\n",
      "    representation: M_2 = 18\n",
      "    weights: M_1 * M_2 = 25376 * 18 = 456768\n",
      "    biases: M_2 = 18\n",
      "step 400 / 729 (epoch 43.86 / 80):\n",
      "  learning_rate = 9.58e-02, loss_average = 3.96e+00\n"
     ]
    },
    {
     "name": "stderr",
     "output_type": "stream",
     "text": [
      "D:\\Anaconda3\\lib\\site-packages\\sklearn\\metrics\\classification.py:1135: UndefinedMetricWarning: F-score is ill-defined and being set to 0.0 in labels with no predicted samples.\n",
      "  'precision', 'predicted', average, warn_for)\n"
     ]
    },
    {
     "name": "stdout",
     "output_type": "stream",
     "text": [
      "  validation accuracy: 20.57 (122 / 593), f1 (weighted): 7.02, loss: 3.96e+00\n",
      "  time: 642s (wall 90s)\n",
      "step 729 / 729 (epoch 79.93 / 80):\n",
      "  learning_rate = 9.24e-02, loss_average = 3.86e+00\n",
      "  validation accuracy: 20.57 (122 / 593), f1 (weighted): 7.02, loss: 3.86e+00\n",
      "  time: 1186s (wall 165s)\n",
      "validation accuracy: peak = 20.57, mean = 20.57\n",
      "INFO:tensorflow:Restoring parameters from C:\\Users\\Milena Filipovic\\ntds_project\\project\\lib\\..\\checkpoints\\model-729\n",
      "train accuracy: 20.18 (184 / 912), f1 (weighted): 6.77, loss: 4.15e+00\n",
      "time: 7s (wall 1s)\n",
      "INFO:tensorflow:Restoring parameters from C:\\Users\\Milena Filipovic\\ntds_project\\project\\lib\\..\\checkpoints\\model-729\n",
      "test  accuracy: 20.57 (122 / 593), f1 (weighted): 7.02, loss: 3.86e+00\n",
      "time: 4s (wall 1s)\n"
     ]
    }
   ],
   "source": [
    "name = 'sgconv_softmax'\n",
    "params = common.copy()\n",
    "params['filter']         = 'spline'\n",
    "params['regularization'] = 1e-3\n",
    "params['dropout']        = 1\n",
    "params['learning_rate']  = 0.1\n",
    "params['decay_rate']     = 0.999\n",
    "params['momentum']       = 0\n",
    "params['F']              = [32]\n",
    "params['K']              = [5]\n",
    "params['p']              = [1]\n",
    "params['M']              = [C]\n",
    "model_perf.test(models.cgcnn(L, **params), name, params,\n",
    "                train_data, train_labels, val_data, val_labels, test_data, test_labels)"
   ]
  },
  {
   "cell_type": "code",
   "execution_count": 27,
   "metadata": {},
   "outputs": [
    {
     "name": "stdout",
     "output_type": "stream",
     "text": [
      "NN architecture\n",
      "  input: M_0 = 793\n",
      "  layer 1: cgconv1\n",
      "    representation: M_0 * F_1 / p_1 = 793 * 32 / 1 = 25376\n",
      "    weights: F_0 * F_1 * K_1 = 1 * 32 * 5 = 160\n",
      "    biases: F_1 = 32\n",
      "  layer 2: logits (softmax)\n",
      "    representation: M_2 = 18\n",
      "    weights: M_1 * M_2 = 25376 * 18 = 456768\n",
      "    biases: M_2 = 18\n",
      "step 400 / 729 (epoch 43.86 / 80):\n",
      "  learning_rate = 9.58e-02, loss_average = 3.97e+00\n",
      "  validation accuracy: 18.55 (110 / 593), f1 (weighted): 5.81, loss: 3.97e+00\n",
      "  time: 91s (wall 19s)\n"
     ]
    },
    {
     "name": "stderr",
     "output_type": "stream",
     "text": [
      "D:\\Anaconda3\\lib\\site-packages\\sklearn\\metrics\\classification.py:1135: UndefinedMetricWarning: F-score is ill-defined and being set to 0.0 in labels with no predicted samples.\n",
      "  'precision', 'predicted', average, warn_for)\n"
     ]
    },
    {
     "name": "stdout",
     "output_type": "stream",
     "text": [
      "step 729 / 729 (epoch 79.93 / 80):\n",
      "  learning_rate = 9.24e-02, loss_average = 3.87e+00\n",
      "  validation accuracy: 18.55 (110 / 593), f1 (weighted): 5.81, loss: 3.88e+00\n",
      "  time: 164s (wall 35s)\n",
      "validation accuracy: peak = 18.55, mean = 18.55\n",
      "INFO:tensorflow:Restoring parameters from C:\\Users\\Milena Filipovic\\ntds_project\\project\\lib\\..\\checkpoints\\model-729\n",
      "train accuracy: 18.86 (172 / 912), f1 (weighted): 5.98, loss: 4.19e+00\n",
      "time: 1s (wall 0s)\n",
      "INFO:tensorflow:Restoring parameters from C:\\Users\\Milena Filipovic\\ntds_project\\project\\lib\\..\\checkpoints\\model-729\n",
      "test  accuracy: 18.55 (110 / 593), f1 (weighted): 5.81, loss: 3.88e+00\n",
      "time: 1s (wall 0s)\n"
     ]
    }
   ],
   "source": [
    "name = 'cgconv_softmax'\n",
    "params = common.copy()\n",
    "params['regularization'] = 1e-3\n",
    "params['dropout']        = 1\n",
    "params['learning_rate']  = 0.1\n",
    "params['decay_rate']     = 0.999\n",
    "params['momentum']       = 0\n",
    "params['F']              = [32]\n",
    "params['K']              = [5]\n",
    "params['p']              = [1]\n",
    "params['M']              = [C]\n",
    "model_perf.test(models.cgcnn(L, **params), name, params,\n",
    "                train_data, train_labels, val_data, val_labels, test_data, test_labels)"
   ]
  },
  {
   "cell_type": "code",
   "execution_count": 28,
   "metadata": {},
   "outputs": [
    {
     "name": "stdout",
     "output_type": "stream",
     "text": [
      "NN architecture\n",
      "  input: M_0 = 793\n",
      "  layer 1: cgconv1\n",
      "    representation: M_0 * F_1 / p_1 = 793 * 5 / 1 = 3965\n",
      "    weights: F_0 * F_1 * K_1 = 1 * 5 * 15 = 75\n",
      "    biases: F_1 = 5\n",
      "  layer 2: fc1\n",
      "    representation: M_2 = 100\n",
      "    weights: M_1 * M_2 = 3965 * 100 = 396500\n",
      "    biases: M_2 = 100\n",
      "  layer 3: logits (softmax)\n",
      "    representation: M_3 = 18\n",
      "    weights: M_2 * M_3 = 100 * 18 = 1800\n",
      "    biases: M_3 = 18\n",
      "step 400 / 729 (epoch 43.86 / 80):\n",
      "  learning_rate = 9.58e-02, loss_average = 2.33e+00\n"
     ]
    },
    {
     "name": "stderr",
     "output_type": "stream",
     "text": [
      "D:\\Anaconda3\\lib\\site-packages\\sklearn\\metrics\\classification.py:1135: UndefinedMetricWarning: F-score is ill-defined and being set to 0.0 in labels with no predicted samples.\n",
      "  'precision', 'predicted', average, warn_for)\n"
     ]
    },
    {
     "name": "stdout",
     "output_type": "stream",
     "text": [
      "  validation accuracy: 20.40 (121 / 593), f1 (weighted): 11.50, loss: 2.31e+00\n",
      "  time: 93s (wall 22s)\n",
      "step 729 / 729 (epoch 79.93 / 80):\n",
      "  learning_rate = 9.24e-02, loss_average = 2.31e+00\n",
      "  validation accuracy: 20.07 (119 / 593), f1 (weighted): 9.50, loss: 2.30e+00\n",
      "  time: 173s (wall 42s)\n",
      "validation accuracy: peak = 20.40, mean = 20.24\n",
      "INFO:tensorflow:Restoring parameters from C:\\Users\\Milena Filipovic\\ntds_project\\project\\lib\\..\\checkpoints\\model-729\n",
      "train accuracy: 18.31 (167 / 912), f1 (weighted): 7.56, loss: 2.47e+00\n",
      "time: 2s (wall 1s)\n",
      "INFO:tensorflow:Restoring parameters from C:\\Users\\Milena Filipovic\\ntds_project\\project\\lib\\..\\checkpoints\\model-729\n",
      "test  accuracy: 20.07 (119 / 593), f1 (weighted): 9.50, loss: 2.30e+00\n",
      "time: 1s (wall 0s)\n"
     ]
    }
   ],
   "source": [
    "name = 'cgconv_fc_softmax'\n",
    "params = common.copy()\n",
    "params['regularization'] = 0\n",
    "params['dropout']        = 1\n",
    "params['learning_rate']  = 0.1\n",
    "params['decay_rate']     = 0.999\n",
    "params['momentum']       = 0\n",
    "params['F']              = [5]\n",
    "params['K']              = [15]\n",
    "params['p']              = [1]\n",
    "params['M']              = [100, C]\n",
    "model_perf.test(models.cgcnn(L, **params), name, params,\n",
    "                train_data, train_labels, val_data, val_labels, test_data, test_labels)"
   ]
  },
  {
   "cell_type": "code",
   "execution_count": 29,
   "metadata": {},
   "outputs": [
    {
     "name": "stdout",
     "output_type": "stream",
     "text": [
      "  accuracy        F1             loss        time [ms]  name\n",
      "test  train   test  train   test     train\n",
      "20.07 18.31    9.50  7.56   2.30e+00 2.47e+00    58   cgconv_fc_softmax\n",
      "18.55 18.86    5.81  5.98   3.88e+00 4.19e+00    48   cgconv_softmax\n",
      "43.68 91.45   40.23 90.83   2.06e+00 6.49e-01    70   fc_fc_softmax\n",
      "44.69 69.96   39.10 67.14   1.85e+00 1.28e+00    60   fc_softmax\n",
      "20.40 20.18    6.97  6.99   2.30e+00 2.46e+00   233   fgconv_softmax\n",
      "20.57 20.18    7.02  6.77   3.86e+00 4.15e+00   227   sgconv_softmax\n",
      "39.12 98.36   37.95 98.35   4.25e+01 2.77e+00     4   softmax\n"
     ]
    },
    {
     "data": {
      "image/png": "[encoded data removed]",
      "text/plain": [
       "<matplotlib.figure.Figure at 0x1e7c585e860>"
      ]
     },
     "metadata": {},
     "output_type": "display_data"
    }
   ],
   "source": [
    "model_perf.show()"
   ]
  },
  {
   "cell_type": "markdown",
   "metadata": {
    "collapsed": true
   },
   "source": [
    "\n",
    "On the plot above we can observe the testing accuracy of the different models. From this, we can see that the best model for our data was the 'fc_softmax' model, with one hidden layer and one output layer with a softmax function. Although this was our best model, the maximum test accuracy achieved was 44.69%. This is considerably better than what we were able to accomplish with the spectral clustering methods, but not the result we were hoping for. \n",
    "However, it is again important to underline that we are classifying only by the first genre of each movie and that keywords used for movies with ['Action', 'Adventure'] genres, and those used for movies with ['Adventure', 'Action'] genres are generally very similar. We believe that this, coupled with the small set of words used in the embeddings graph contributed considerably to the poor performance of the models with convolutional layers.\n",
    "The goal of this part of our project was to experiment with CNNs and to improve our accuracy score, by overcoming some of the difficulties faced in the previous steps."
   ]
  },
  {
   "cell_type": "code",
   "execution_count": null,
   "metadata": {
    "collapsed": true
   },
   "outputs": [],
   "source": []
  }
 ],
 "metadata": {
  "kernelspec": {
   "display_name": "Python 3",
   "language": "python",
   "name": "python3"
  },
  "language_info": {
   "codemirror_mode": {
    "name": "ipython",
    "version": 3
   },
   "file_extension": ".py",
   "mimetype": "text/x-python",
   "name": "python",
   "nbconvert_exporter": "python",
   "pygments_lexer": "ipython3",
   "version": "3.6.5"
  }
 },
 "nbformat": 4,
 "nbformat_minor": 2
}
